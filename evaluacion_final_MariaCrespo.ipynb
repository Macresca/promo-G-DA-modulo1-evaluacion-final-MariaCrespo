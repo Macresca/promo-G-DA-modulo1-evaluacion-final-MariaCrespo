{
 "cells": [
  {
   "cell_type": "markdown",
   "metadata": {},
   "source": [
    "**✅** **1**  Ejemplo dLa clase TiendaOnline debe tener los siguientes atributos:\n",
    "\n",
    "inventario (lista de diccionarios): Un atributo para almacenar los productos en el inventario. Cada producto debe ser representado como un diccionario con las siguientes claves: 'nombre', 'precio', y 'cantidad'. Al principio deberá ser una lista vacía.e como debería ser:"
   ]
  },
  {
   "cell_type": "markdown",
   "metadata": {},
   "source": [
    "    [{'nombre': 'Camisa', 'precio': 20, 'cantidad': 40},\n",
    "\n",
    "    {'nombre': 'Pantalón', 'precio': 30, 'cantidad': 30}]"
   ]
  },
  {
   "cell_type": "markdown",
   "metadata": {},
   "source": [
    "**✅** **2** Clientes (diccionario): Un atributo para llevar un registro de los clientes de la tienda. \n",
    "\n",
    "Cada cliente debe ser representado como un diccionario con las siguientes claves: 'nombre' y 'email'. \n",
    "\n",
    "Al inicio deberá ser un diccionario vacío. Además, cada cliente debe tener un historial de compras. Deberá parecerse a:"
   ]
  },
  {
   "cell_type": "markdown",
   "metadata": {},
   "source": [
    "    {'Cliente1': {'email': 'cliente1@email.com', 'compras': []},\n",
    "\n",
    "    'Cliente2': {'email': 'cliente2@email.com', 'compras': []}}"
   ]
  },
  {
   "cell_type": "markdown",
   "metadata": {},
   "source": [
    "**✅** **3** Ventas_totales (float): Un atributo para llevar un registro de las ventas totales de la tienda. Inicializalo con valor 0."
   ]
  },
  {
   "cell_type": "code",
   "execution_count": 5,
   "metadata": {},
   "outputs": [],
   "source": [
    "class Tiendaonline:\n",
    "    def __init__(self, inventario, clientes,ventas_totales):\n",
    "        self.inventario = inventario\n",
    "        self.clientes = clientes\n",
    "        self.ventas_totales =ventas_totales\n"
   ]
  },
  {
   "cell_type": "code",
   "execution_count": 6,
   "metadata": {},
   "outputs": [],
   "source": [
    "Bonica = Tiendaonline([],{},0.0)"
   ]
  },
  {
   "cell_type": "markdown",
   "metadata": {},
   "source": [
    "**METODOS**"
   ]
  },
  {
   "cell_type": "markdown",
   "metadata": {},
   "source": [
    "**✅** **1** agregar_producto(self, nombre, precio, cantidad): Este método agrega un producto al inventario o actualiza su cantidad si ya existe. Debe recibir \n",
    "\n",
    "el nombre, precio y cantidad del producto como parámetros.\n",
    "\n",
    "→→ Itera a través del inventario y compara los nombres de los productos con el nombre proporcionado.\n",
    "\n",
    "→→ Si el producto ya existe, actualiza la cantidad.\n",
    "\n",
    "→→ Si no existe, agrega un nuevo producto al inventario."
   ]
  },
  {
   "cell_type": "markdown",
   "metadata": {},
   "source": [
    "**✅** **2** Ver_inventario(self): Muestra el inventario de productos con sus detalles.\n",
    "\n",
    "→→Utiliza un bucle for para recorrer el inventario.\n",
    "\n",
    "→→Imprime los detalles (nombre, precio, cantidad) de cada producto."
   ]
  },
  {
   "cell_type": "markdown",
   "metadata": {},
   "source": [
    "**✅** **3** Buscar_producto(self, nombre): Busca un producto en el inventario por nombre y muestra sus detalles si se encuentra. Debe recibir el nombre del \n",
    "producto como parámetro.\n",
    "\n",
    "→→Utiliza un bucle for para recorrer el inventario.\n",
    "\n",
    "→→Compara los nombres de los productos con el nombre proporcionado.\n",
    "\n",
    "→→Si se encuentra el producto, imprime sus detalles."
   ]
  },
  {
   "cell_type": "markdown",
   "metadata": {},
   "source": [
    "**✅** **4** Actualizar_stock(self, nombre, cantidad): Actualiza el stock de un producto en el inventario. Debe recibir el nombre del producto y la cantidad a \n",
    "\n",
    "agregar o quitar como parámetros.\n",
    "\n",
    "→→Utiliza un bucle for para recorrer el inventario.\n",
    "\n",
    "→→Busca el producto por nombre.\n",
    "\n",
    "→→Actualiza la cantidad según la entrada del usuario.\n",
    "\n",
    "→→Si el producto no esta en el inventario muestra un mensaje indicándolo."
   ]
  },
  {
   "cell_type": "markdown",
   "metadata": {},
   "source": [
    "**✅** **5** Eliminar_producto(self, nombre): Elimina un producto del inventario por nombre. Debe recibir el nombre del producto como parámetro.\n",
    "\n",
    "→→Utiliza un bucle for para recorrer el inventario.\n",
    "\n",
    "→→Busca el producto por nombre.\n",
    "\n",
    "→→Elimina el producto del inventario si existe.\n",
    "\n",
    "→→Si el producto no esta en el inventario muestra un mensaje indicándolo."
   ]
  },
  {
   "cell_type": "markdown",
   "metadata": {},
   "source": [
    "**✅** **6** Calcular_valor_inventario(self): Calcula y muestra el valor total del inventario.\n",
    "\n",
    "→→Utiliza un bucle for para calcular el valor total del inventario.\n",
    "\n",
    "→→Itera a través del inventario y suma el valor de cada producto (precio x cantidad). Es decir, calcula el valor total del inventario."
   ]
  },
  {
   "cell_type": "markdown",
   "metadata": {},
   "source": [
    "**❎** **7** Realizar_compra(self): Permite a un cliente realizar una compra seleccionando productos del inventario. Debe interactuar con el cliente para \n",
    "\n",
    "seleccionar productos y calcular el costo total de la compra.\n",
    "\n",
    "→→Utiliza un bucle while para permitir al cliente realizar múltiples compras.\n",
    "\n",
    "→→Muestra el inventario y solicita al cliente ingresar el nombre del producto que desea comprar.\n",
    "\n",
    "→→Registra los productos seleccionados en un carrito y actualiza el inventario.\n",
    "\n",
    "→→Calcula el costo total de la compra."
   ]
  },
  {
   "cell_type": "markdown",
   "metadata": {},
   "source": [
    "**❎** **8** procesar_pago(self): Procesa el pago de una compra, calcula el cambio y muestra un mensaje de confirmación.\n",
    "\n",
    "→→ Utiliza un bloque try...except para manejar excepciones.\n",
    "\n",
    "→→ Solicita al cliente ingresar la cantidad total y la cantidad de pago usando un input.\n",
    "\n",
    "→→Calcula el cambio y muestra un mensaje de pago exitoso o un error en caso de monto insuficiente."
   ]
  },
  {
   "cell_type": "markdown",
   "metadata": {},
   "source": [
    "**✅** **9** agregar_cliente(self, nombre, email): \n",
    "\n",
    "Agrega un nuevo cliente al registro de clientes. Debe recibir el nombre y el correo electrónico del cliente como parámetros.\n",
    "\n",
    "Agrega un cliente al diccionario de clientes con su nombre y correo electrónico."
   ]
  },
  {
   "cell_type": "markdown",
   "metadata": {},
   "source": [
    "**✅** **10** ver_clientes(self): Muestra la lista de clientes registrados con sus nombres y correos electrónicos.\n",
    "\n",
    "Utiliza un bucle for para recorrer la base de datos de clientes.\n",
    "\n",
    "Imprime los detalles de cada cliente (nombre y correo electrónico)"
   ]
  },
  {
   "cell_type": "code",
   "execution_count": 26,
   "metadata": {},
   "outputs": [],
   "source": [
    "class Tiendaonline:\n",
    "    def __init__(self, inventario, clientes,ventas_totales):\n",
    "        self.inventario = inventario\n",
    "        self.clientes = clientes\n",
    "        self.ventas_totales =ventas_totales\n",
    "\n",
    "    def agregar_producto(self,nombre,precio,cantidad):    \n",
    "        \n",
    "        for producto in self.inventario:\n",
    "\n",
    "            if  producto['nombre'] == nombre:\n",
    "                producto['precio'] = precio\n",
    "                producto['cantidad'] += cantidad\n",
    "                break\n",
    "        else:\n",
    "            add_product = {'nombre': nombre, 'precio': precio, 'cantidad': cantidad}\n",
    "            self.inventario.append(add_product)\n",
    "    \n",
    "    def ver_inventario(self):\n",
    "        \n",
    "        for producto in self.inventario:\n",
    "            \n",
    "            print(f'Nombre: {producto[\"nombre\"]}, Precio: {producto[\"precio\"]} €, Cantidad: {producto[\"cantidad\"]} uds.')\n",
    "\n",
    "    def buscar_producto(self,nombre):\n",
    "\n",
    "        for producto in self.inventario:\n",
    "            \n",
    "            if producto[\"nombre\"] == nombre:\n",
    "                print(f'Nombre: {producto[\"nombre\"]}, Precio: {producto[\"precio\"]} €, Cantidad: {producto[\"cantidad\"]} uds.')\n",
    "\n",
    "    def actualizar_stock(self,nombre,cantidad):\n",
    "\n",
    "        for producto in self.inventario:\n",
    "\n",
    "            if  producto[\"nombre\"] == nombre:\n",
    "                producto[\"cantidad\"] += cantidad\n",
    "                return print(f'el stock de tu artículo {producto[\"nombre\"]}, fue actualizado. Nombre: {producto[\"nombre\"]}, Precio: {producto[\"precio\"]} €, Cantidad: {producto[\"cantidad\"]} uds.')\n",
    "                break\n",
    "\n",
    "            else :\n",
    "                print(f'este artículo no está en nuestra base de datos 😅')\n",
    "\n",
    "    def elimina_articulo(self, nombre):\n",
    "\n",
    "        for producto in self.inventario:\n",
    "\n",
    "            if producto[\"nombre\"] == nombre:\n",
    "                self.inventario.pop(self.inventario.index(producto))\n",
    "                return print(f'tu artículo {producto[\"nombre\"]} ha sido eliminado de la base de datos del inventario.')\n",
    "                break\n",
    "            \n",
    "        else :\n",
    "            print(f'este artículo no está en nuestra base de datos 😅')\n",
    "\n",
    "    def valor_inventario(self):\n",
    "\n",
    "        valor = 0\n",
    "\n",
    "        for producto in self.inventario:\n",
    "\n",
    "            valor += producto['precio'] * producto['cantidad']\n",
    "\n",
    "        return valor\n",
    "\n",
    "    def agregar_cliente(self,nombre, email):\n",
    "\n",
    "        cliente = {'nombre': nombre, 'email': email}\n",
    "\n",
    "        self.clientes[cliente['nombre']] = cliente\n",
    "                       \n",
    "    def ver_clientes(self):\n",
    "        \n",
    "        print(\"Lista de clientes registrados:\")\n",
    "\n",
    "        for nombre, cliente in self.clientes.items():\n",
    "            \n",
    "            print(f'Nombre: {nombre}, Email: {cliente[\"email\"]}')\n",
    "    \n",
    "    def realizar_compra(self):\n",
    "        carrito = []\n",
    "\n",
    "        while True:\n",
    "            quieres_comprar = input(\"¿Quieres realizar una compra? (S/N)\").upper()\n",
    "\n",
    "            if quieres_comprar == \"S\":\n",
    "                nombre_art = input(\"Selecciona un artículo de la lista\").lower()\n",
    "\n",
    "                encontrado = False\n",
    "                for producto in self.inventario:\n",
    "                    if producto[\"nombre\"] == nombre_art:\n",
    "                        self.buscar_producto(nombre_art)\n",
    "                        qty_compra = int(input(\"Dime la cantidad\"))\n",
    "                        if qty_compra <= producto[\"cantidad\"]:\n",
    "                            carrito.append({'nombre': nombre_art, 'cantidad': qty_compra, 'precio': producto['precio']})\n",
    "                            producto[\"cantidad\"] -= qty_compra\n",
    "                        else:\n",
    "                            print(\"No hay suficiente stock disponible.\")    \n",
    "                        encontrado = True\n",
    "                        break\n",
    "\n",
    "                if not encontrado:\n",
    "                    print(\"El producto no está en el inventario. Por favor, elige otro.\")\n",
    "            elif quieres_comprar == \"N\":\n",
    "                break\n",
    "        valor_carrito = sum(item['precio'] * item['cantidad'] for item in carrito)\n",
    "        print(f\"El valor total del carrito es: {valor_carrito} €\") "
   ]
  },
  {
   "cell_type": "code",
   "execution_count": 27,
   "metadata": {},
   "outputs": [],
   "source": [
    "Bonica = Tiendaonline([],{},0.0)"
   ]
  },
  {
   "cell_type": "code",
   "execution_count": 28,
   "metadata": {},
   "outputs": [],
   "source": [
    "Bonica.agregar_producto(\"pendientes\",50,50)\n",
    "Bonica.agregar_producto(\"choker\",20,50)\n",
    "Bonica.agregar_producto(\"pulsera\",20,30)\n",
    "Bonica.agregar_producto(\"bolso_mini\",30,30)\n",
    "Bonica.agregar_producto(\"botella_cristal\",10,50)"
   ]
  },
  {
   "cell_type": "code",
   "execution_count": 29,
   "metadata": {},
   "outputs": [
    {
     "name": "stdout",
     "output_type": "stream",
     "text": [
      "Nombre: pendientes, Precio: 50 €, Cantidad: 50 uds.\n",
      "Nombre: choker, Precio: 20 €, Cantidad: 50 uds.\n",
      "Nombre: pulsera, Precio: 20 €, Cantidad: 30 uds.\n",
      "Nombre: bolso_mini, Precio: 30 €, Cantidad: 30 uds.\n",
      "Nombre: botella_cristal, Precio: 10 €, Cantidad: 50 uds.\n"
     ]
    }
   ],
   "source": [
    "Bonica.ver_inventario()"
   ]
  },
  {
   "cell_type": "code",
   "execution_count": 30,
   "metadata": {},
   "outputs": [
    {
     "name": "stdout",
     "output_type": "stream",
     "text": [
      "Nombre: choker, Precio: 20 €, Cantidad: 50 uds.\n"
     ]
    }
   ],
   "source": [
    "Bonica.buscar_producto(\"choker\")"
   ]
  },
  {
   "cell_type": "code",
   "execution_count": 31,
   "metadata": {},
   "outputs": [
    {
     "name": "stdout",
     "output_type": "stream",
     "text": [
      "el stock de tu artículo pendientes, fue actualizado. Nombre: pendientes, Precio: 50 €, Cantidad: 100 uds.\n"
     ]
    }
   ],
   "source": [
    "Bonica.actualizar_stock(\"pendientes\",50)"
   ]
  },
  {
   "cell_type": "code",
   "execution_count": 32,
   "metadata": {},
   "outputs": [
    {
     "name": "stdout",
     "output_type": "stream",
     "text": [
      "tu artículo choker ha sido eliminado de la base de datos del inventario.\n"
     ]
    }
   ],
   "source": [
    "Bonica.elimina_articulo(\"choker\")"
   ]
  },
  {
   "cell_type": "code",
   "execution_count": 33,
   "metadata": {},
   "outputs": [
    {
     "name": "stdout",
     "output_type": "stream",
     "text": [
      "este artículo no está en nuestra base de datos 😅\n"
     ]
    }
   ],
   "source": [
    "Bonica.elimina_articulo(\"bolso_grande\")"
   ]
  },
  {
   "cell_type": "code",
   "execution_count": 34,
   "metadata": {},
   "outputs": [
    {
     "name": "stdout",
     "output_type": "stream",
     "text": [
      "Nombre: pendientes, Precio: 50 €, Cantidad: 100 uds.\n",
      "Nombre: pulsera, Precio: 20 €, Cantidad: 30 uds.\n",
      "Nombre: bolso_mini, Precio: 30 €, Cantidad: 30 uds.\n",
      "Nombre: botella_cristal, Precio: 10 €, Cantidad: 50 uds.\n"
     ]
    }
   ],
   "source": [
    "Bonica.ver_inventario()"
   ]
  },
  {
   "cell_type": "code",
   "execution_count": 36,
   "metadata": {},
   "outputs": [
    {
     "data": {
      "text/plain": [
       "7000"
      ]
     },
     "execution_count": 36,
     "metadata": {},
     "output_type": "execute_result"
    }
   ],
   "source": [
    "Bonica.valor_inventario()"
   ]
  },
  {
   "cell_type": "code",
   "execution_count": 38,
   "metadata": {},
   "outputs": [
    {
     "name": "stdout",
     "output_type": "stream",
     "text": [
      "Nombre: pendientes, Precio: 50 €, Cantidad: 95 uds.\n",
      "No hay suficiente stock disponible.\n",
      "El valor total del carrito es: 0 €\n"
     ]
    }
   ],
   "source": [
    "Bonica.realizar_compra()"
   ]
  },
  {
   "cell_type": "code",
   "execution_count": 202,
   "metadata": {},
   "outputs": [],
   "source": [
    "Bonica.agregar_cliente(\"maria\",\"mariac@gmail.com\")\n",
    "Bonica.agregar_cliente(\"aina\",\"aina@gmail.com\")"
   ]
  },
  {
   "cell_type": "code",
   "execution_count": 203,
   "metadata": {},
   "outputs": [
    {
     "name": "stdout",
     "output_type": "stream",
     "text": [
      "Lista de clientes registrados:\n",
      "Nombre: maria, Email: mariac@gmail.com\n",
      "Nombre: aina, Email: aina@gmail.com\n"
     ]
    }
   ],
   "source": [
    "Bonica.ver_clientes()"
   ]
  }
 ],
 "metadata": {
  "kernelspec": {
   "display_name": "base",
   "language": "python",
   "name": "python3"
  },
  "language_info": {
   "codemirror_mode": {
    "name": "ipython",
    "version": 3
   },
   "file_extension": ".py",
   "mimetype": "text/x-python",
   "name": "python",
   "nbconvert_exporter": "python",
   "pygments_lexer": "ipython3",
   "version": "3.9.7"
  }
 },
 "nbformat": 4,
 "nbformat_minor": 2
}
